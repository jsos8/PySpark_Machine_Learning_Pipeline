{
 "cells": [
  {
   "cell_type": "markdown",
   "metadata": {},
   "source": [
    "# CAS Machine Learning Demo"
   ]
  },
  {
   "cell_type": "markdown",
   "metadata": {},
   "source": [
    "## Overview of the Predictive Modeling Case\n",
    "A financial services company offers a home equity line of credit to its clients. The\n",
    "company has extended several thousand lines of credit in the past, and many of these\n",
    "accepted applicants (approximately 20%) have defaulted on their loans. By using\n",
    "geographic, demographic, and financial variables, the company wants to build a model\n",
    "to predict whether an applicant will default."
   ]
  },
  {
   "cell_type": "markdown",
   "metadata": {},
   "source": [
    "## Data\n",
    "After analyzing the data, the company selected a subset of 12 predictor (or input)\n",
    "variables to model whether each applicant defaulted. The response (or target) variable\n",
    "(BAD) indicates whether an applicant defaulted on the home equity line of credit.\n",
    "These variables, along with their model role, measurement level, and description, are\n",
    "shown in the following table from the <a href = \"https://support.sas.com/documentation/onlinedoc/viya/examples.htm\">**HMEQ**</a> data set."
   ]
  },
  {
   "cell_type": "markdown",
   "metadata": {},
   "source": [
    "| Name      | Model Role | Measurement Level | Description                                                            |\n",
    "|:----------|:-----------|:------------------|:-----------------------------------------------------------------------|\n",
    "| BAD       | Target     | Binary            | 1 = applicant defaulted on loan or delinquent, 0 = applicant paid loan |\n",
    "| CLAGE     | Input      | Interval          | Age of oldest credit line in months                                    |\n",
    "| CLNO      | Input      | Interval          | Number of credit lines                                                 |\n",
    "| DEBTINC   | Input      | Interval          | Debt-to-income ratio                                                   |\n",
    "| DELINQ    | Input      | Interval          | Number of delinquent credit lines                                      |\n",
    "| DEROG     | Input      | Interval          | Number of derogatory reports                                           |\n",
    "| JOB       | Input      | Nominal           | Occupational categories                                                |\n",
    "| LOAN      | Input      | Interval          | Amount of loan request                                                 |\n",
    "| MORTDUE   | Input      | Interval          | Amount due on existing mortgage                                        |\n",
    "| NINQ      | Input      | Interval          | Number of recent credit inquiries                                      |\n",
    "| REASON    | Input      | Binary            | DebtCon = debt consolidation, HomeImp = home improvement               |\n",
    "| VALUE     | Input      | Interval          | Value of current property                                              |\n",
    "| YOJ       | Input      | Interval          | Years at present job                                                   |"
   ]
  },
  {
   "cell_type": "markdown",
   "metadata": {},
   "source": [
    "# Load Packages"
   ]
  },
  {
   "cell_type": "code",
   "execution_count": null,
   "metadata": {},
   "outputs": [],
   "source": [
    "# Imports the necessary packages\n",
    "\n",
    "import swat\n",
    "import pandas as pd\n",
    "from matplotlib import pyplot as plt\n",
    "%matplotlib inline\n",
    "swat.options.cas.print_messages = True"
   ]
  },
  {
   "cell_type": "markdown",
   "metadata": {},
   "source": [
    "# Connect to CAS"
   ]
  },
  {
   "cell_type": "code",
   "execution_count": null,
   "metadata": {},
   "outputs": [],
   "source": [
    "# Connects to the CAS server\n",
    "\n",
    "conn = swat.CAS(\"server.demo.sas.com\", 30570, \"christine\", \"Student1\")"
   ]
  },
  {
   "cell_type": "code",
   "execution_count": null,
   "metadata": {},
   "outputs": [],
   "source": [
    "# Change timeout\n",
    "\n",
    "mytime = 60*60*12\n",
    "conn.session.timeout(time=mytime)\n",
    "conn.session.sessionStatus()"
   ]
  },
  {
   "cell_type": "markdown",
   "metadata": {},
   "source": [
    "# Load Data onto the Server"
   ]
  },
  {
   "cell_type": "code",
   "execution_count": null,
   "metadata": {},
   "outputs": [],
   "source": [
    "# Read in the hmeq CSV to an in-memory data table and create a CAS table object reference\n",
    "\n",
    "hmeq = conn.read_csv(\"data/hmeq.csv\", casout = dict(name=\"hmeq\", replace=True))"
   ]
  },
  {
   "cell_type": "code",
   "execution_count": null,
   "metadata": {},
   "outputs": [],
   "source": [
    "# Checks the tables that are in-memory\n",
    "\n",
    "conn.table.tableInfo()"
   ]
  },
  {
   "cell_type": "code",
   "execution_count": null,
   "metadata": {},
   "outputs": [],
   "source": [
    "# Checks the type of the dataset\n",
    "\n",
    "type(hmeq)"
   ]
  },
  {
   "cell_type": "markdown",
   "metadata": {},
   "source": [
    "# Exploratory Analysis"
   ]
  },
  {
   "cell_type": "code",
   "execution_count": null,
   "metadata": {},
   "outputs": [],
   "source": [
    "# Displays a sample of the dataset\n",
    "\n",
    "hmeq.head()"
   ]
  },
  {
   "cell_type": "code",
   "execution_count": null,
   "metadata": {},
   "outputs": [],
   "source": [
    "# Displays the type of the dataset sample\n",
    "\n",
    "type(hmeq.head())"
   ]
  },
  {
   "cell_type": "code",
   "execution_count": null,
   "metadata": {},
   "outputs": [],
   "source": [
    "# Displays the shape of the dataframe\n",
    "\n",
    "hmeq.shape"
   ]
  },
  {
   "cell_type": "code",
   "execution_count": null,
   "metadata": {},
   "outputs": [],
   "source": [
    "# Displays the columns in the dataset\n",
    "\n",
    "hmeq.columns"
   ]
  },
  {
   "cell_type": "code",
   "execution_count": null,
   "metadata": {},
   "outputs": [],
   "source": [
    "# Displays information about the entire table\n",
    "\n",
    "hmeq.info()"
   ]
  },
  {
   "cell_type": "code",
   "execution_count": null,
   "metadata": {},
   "outputs": [],
   "source": [
    "# Checks for missing values\n",
    "\n",
    "hmeq.distinct()"
   ]
  },
  {
   "cell_type": "code",
   "execution_count": null,
   "metadata": {},
   "outputs": [],
   "source": [
    "# Explores the levels in the target variable\n",
    "\n",
    "hmeq[\"BAD\"].value_counts(normalize = True)"
   ]
  },
  {
   "cell_type": "code",
   "execution_count": null,
   "metadata": {},
   "outputs": [],
   "source": [
    "# Explores the target distribution\n",
    "\n",
    "hmeq[\"BAD\"].describe()"
   ]
  },
  {
   "cell_type": "code",
   "execution_count": null,
   "metadata": {},
   "outputs": [],
   "source": [
    "# Remove duplicate rows\n",
    "\n",
    "hmeq.drop_duplicates(casout = {\"name\": \"hmeq\", \"replace\": True})\n",
    "hmeq.shape"
   ]
  },
  {
   "cell_type": "code",
   "execution_count": null,
   "metadata": {},
   "outputs": [],
   "source": [
    "# Explores the distibution of the numeric variables\n",
    "\n",
    "hmeq.describe(include=['numeric'])"
   ]
  },
  {
   "cell_type": "code",
   "execution_count": null,
   "metadata": {},
   "outputs": [],
   "source": [
    "# Explores the distibution of the categorical variables\n",
    "\n",
    "hmeq.describe(include=['character'])"
   ]
  },
  {
   "cell_type": "code",
   "execution_count": null,
   "metadata": {},
   "outputs": [],
   "source": [
    "# Creates a histogram of all the numeric variables \n",
    "\n",
    "hmeq.hist(figsize = (10, 10))"
   ]
  },
  {
   "cell_type": "code",
   "execution_count": null,
   "metadata": {},
   "outputs": [],
   "source": [
    "# Creates a correlation matrix of the numeric variables\n",
    "\n",
    "hmeq.corr()"
   ]
  },
  {
   "cell_type": "markdown",
   "metadata": {},
   "source": [
    "# Explore the Data using CAS Actions"
   ]
  },
  {
   "cell_type": "code",
   "execution_count": null,
   "metadata": {},
   "outputs": [],
   "source": [
    "# Loads the simple action set\n",
    "\n",
    "conn.loadActionSet('simple')"
   ]
  },
  {
   "cell_type": "code",
   "execution_count": null,
   "metadata": {},
   "outputs": [],
   "source": [
    "# Checks the distribution of the categorical columns\n",
    "\n",
    "conn.simple.freq(\n",
    "    table = indata,\n",
    "    inputs = [\"JOB\",\"REASON\"]\n",
    ")\n",
    "\n",
    "# A more concise way of writing the above\n",
    "\n",
    "conn.freq(\n",
    "    table = indata,\n",
    "    inputs = [\"JOB\",\"REASON\"]\n",
    ")"
   ]
  },
  {
   "cell_type": "code",
   "execution_count": null,
   "metadata": {},
   "outputs": [],
   "source": [
    "# Alternative way of performing the correlation analysis\n",
    "\n",
    "conn.correlation(\n",
    "    table = hmeq,\n",
    "    inputs = [\"LOAN\",\"VALUE\",\"MORTDUE\"]\n",
    ")"
   ]
  },
  {
   "cell_type": "code",
   "execution_count": null,
   "metadata": {},
   "outputs": [],
   "source": [
    "conn.loadActionSet('sampling')\n",
    "actions = conn.builtins.help(actionSet='sampling')"
   ]
  },
  {
   "cell_type": "markdown",
   "metadata": {},
   "source": [
    "# End the Session"
   ]
  },
  {
   "cell_type": "code",
   "execution_count": null,
   "metadata": {},
   "outputs": [],
   "source": [
    "conn.session.endSession()"
   ]
  }
 ],
 "metadata": {
  "kernelspec": {
   "display_name": "Python 3 (ipykernel)",
   "language": "python",
   "name": "python3"
  },
  "language_info": {
   "codemirror_mode": {
    "name": "ipython",
    "version": 3
   },
   "file_extension": ".py",
   "mimetype": "text/x-python",
   "name": "python",
   "nbconvert_exporter": "python",
   "pygments_lexer": "ipython3",
   "version": "3.10.9"
  }
 },
 "nbformat": 4,
 "nbformat_minor": 4
}
