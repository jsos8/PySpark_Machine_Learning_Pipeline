{
 "cells": [
  {
   "cell_type": "markdown",
   "id": "b9fdfc25-c2c6-47ec-b751-0a7a72891567",
   "metadata": {},
   "source": [
    "# PySpark Machine Learning Demo"
   ]
  },
  {
   "cell_type": "markdown",
   "id": "6521e2ae-f77e-4af6-91c5-c1e6b99649d2",
   "metadata": {},
   "source": [
    "## Overview of the Predictive Modeling Case\n",
    "\n",
    "A financial services company offers a home equity line of credit to its clients. The\n",
    "company has extended several thousand lines of credit in the past, and many of these\n",
    "accepted applicants (approximately 20%) have defaulted on their loans. By using\n",
    "geographic, demographic, and financial variables, the company wants to build a model\n",
    "to predict whether an applicant will default."
   ]
  },
  {
   "cell_type": "markdown",
   "id": "fc09d0cb-0856-40bf-b6cf-4e719b71d0f6",
   "metadata": {},
   "source": [
    "## Loading packages"
   ]
  },
  {
   "cell_type": "code",
   "execution_count": 1,
   "id": "b0407d64-6263-4f77-9ce2-41b56ebfb783",
   "metadata": {},
   "outputs": [],
   "source": [
    "# Imports the connection information\n",
    "\n",
    "import pandas as pd\n",
    "import seaborn as sns\n",
    "import matplotlib.pyplot as plt\n",
    "from itertools import chain\n",
    "from operator import itemgetter\n",
    "from pyspark.ml import Pipeline\n",
    "from pyspark.ml.classification import LogisticRegression, DecisionTreeClassifier, RandomForestClassifier, GBTClassifier, MultilayerPerceptronClassifier\n",
    "from pyspark.ml.feature import Imputer, StandardScaler, VectorAssembler\n",
    "from pyspark.ml.stat import Correlation\n",
    "from pyspark.sql import SparkSession, DataFrame, Column\n",
    "import pyspark.sql.functions as F\n",
    "import time"
   ]
  },
  {
   "cell_type": "markdown",
   "id": "42215ae3-0f7f-4a0d-bda1-c5593a4ed652",
   "metadata": {},
   "source": [
    "## Initializing session"
   ]
  },
  {
   "cell_type": "code",
   "execution_count": 2,
   "id": "2c5cf927-db6d-4f5e-b7e4-e382de58da34",
   "metadata": {},
   "outputs": [],
   "source": [
    "# Creates the Spark Session\n",
    "\n",
    "spark = SparkSession.builder.appName(\"ml_comparison\").getOrCreate()"
   ]
  },
  {
   "cell_type": "markdown",
   "id": "d8821295-1945-41e9-8887-c358f52e9f44",
   "metadata": {},
   "source": [
    "## Loading data into memory"
   ]
  },
  {
   "cell_type": "code",
   "execution_count": 3,
   "id": "1b24ae53-1018-460e-8961-b4d2ff388083",
   "metadata": {},
   "outputs": [],
   "source": [
    "# Reads the CSV into memory\n",
    "\n",
    "hmeq = spark.read.csv(\"hmeq.csv\", header = True, inferSchema = True)"
   ]
  },
  {
   "cell_type": "code",
   "execution_count": 4,
   "id": "18aab06a-8699-432e-ab55-27bce052fe26",
   "metadata": {},
   "outputs": [
    {
     "data": {
      "text/plain": [
       "pyspark.sql.dataframe.DataFrame"
      ]
     },
     "execution_count": 4,
     "metadata": {},
     "output_type": "execute_result"
    }
   ],
   "source": [
    "# Displays the type of the object\n",
    "\n",
    "type(hmeq)"
   ]
  },
  {
   "cell_type": "code",
   "execution_count": 5,
   "id": "0b8eb2d6-28c0-44f5-8c50-dd8497fa9d60",
   "metadata": {},
   "outputs": [
    {
     "data": {
      "text/plain": [
       "[Row(BAD=1, LOAN=1100, MORTDUE=25860.0, VALUE=39025.0, REASON='HomeImp', JOB='Other', YOJ=10.5, DEROG=0, DELINQ=0, CLAGE=94.3666666666667, NINQ=1, CLNO=9, DEBTINC=None),\n",
       " Row(BAD=1, LOAN=1300, MORTDUE=70053.0, VALUE=68400.0, REASON='HomeImp', JOB='Other', YOJ=7.0, DEROG=0, DELINQ=2, CLAGE=121.833333333333, NINQ=0, CLNO=14, DEBTINC=None),\n",
       " Row(BAD=1, LOAN=1500, MORTDUE=13500.0, VALUE=16700.0, REASON='HomeImp', JOB='Other', YOJ=4.0, DEROG=0, DELINQ=0, CLAGE=149.466666666667, NINQ=1, CLNO=10, DEBTINC=None),\n",
       " Row(BAD=1, LOAN=1500, MORTDUE=None, VALUE=None, REASON=None, JOB=None, YOJ=None, DEROG=None, DELINQ=None, CLAGE=None, NINQ=None, CLNO=None, DEBTINC=None),\n",
       " Row(BAD=0, LOAN=1700, MORTDUE=97800.0, VALUE=112000.0, REASON='HomeImp', JOB='Office', YOJ=3.0, DEROG=0, DELINQ=0, CLAGE=93.3333333333333, NINQ=0, CLNO=14, DEBTINC=None)]"
      ]
     },
     "execution_count": 5,
     "metadata": {},
     "output_type": "execute_result"
    }
   ],
   "source": [
    "# Displays a sample of the rows in the dataframe\n",
    "\n",
    "hmeq.head(n = 5)"
   ]
  },
  {
   "cell_type": "code",
   "execution_count": 6,
   "id": "94974214-ea3a-4bb9-b839-79f2bb3998f5",
   "metadata": {},
   "outputs": [
    {
     "name": "stdout",
     "output_type": "stream",
     "text": [
      "Object type is <class 'list'>\n"
     ]
    },
    {
     "data": {
      "text/plain": [
       "['BAD',\n",
       " 'LOAN',\n",
       " 'MORTDUE',\n",
       " 'VALUE',\n",
       " 'REASON',\n",
       " 'JOB',\n",
       " 'YOJ',\n",
       " 'DEROG',\n",
       " 'DELINQ',\n",
       " 'CLAGE',\n",
       " 'NINQ',\n",
       " 'CLNO',\n",
       " 'DEBTINC']"
      ]
     },
     "execution_count": 6,
     "metadata": {},
     "output_type": "execute_result"
    }
   ],
   "source": [
    "# Displays the available columns in the dataset\n",
    "\n",
    "print(\"Object type is\", str(type(hmeq.columns)))\n",
    "hmeq.columns"
   ]
  },
  {
   "cell_type": "code",
   "execution_count": 7,
   "id": "b0086968-e056-476e-a0a6-fd2f8e682727",
   "metadata": {},
   "outputs": [
    {
     "name": "stdout",
     "output_type": "stream",
     "text": [
      "This table has 5960 rows and 13 columns\n"
     ]
    }
   ],
   "source": [
    "# Display shape of the dataset\n",
    "\n",
    "print(\"This table has\", str(hmeq.count()), \"rows and\", str(len(hmeq.columns)), \"columns\")"
   ]
  },
  {
   "cell_type": "markdown",
   "id": "e9517752-d654-4b9b-aa40-19cbeb42a147",
   "metadata": {},
   "source": [
    "## Data exploration"
   ]
  },
  {
   "cell_type": "code",
   "execution_count": 8,
   "id": "6944c44f-1ca3-446c-b436-30289cbe6751",
   "metadata": {},
   "outputs": [
    {
     "name": "stdout",
     "output_type": "stream",
     "text": [
      "root\n",
      " |-- BAD: integer (nullable = true)\n",
      " |-- LOAN: integer (nullable = true)\n",
      " |-- MORTDUE: double (nullable = true)\n",
      " |-- VALUE: double (nullable = true)\n",
      " |-- REASON: string (nullable = true)\n",
      " |-- JOB: string (nullable = true)\n",
      " |-- YOJ: double (nullable = true)\n",
      " |-- DEROG: integer (nullable = true)\n",
      " |-- DELINQ: integer (nullable = true)\n",
      " |-- CLAGE: double (nullable = true)\n",
      " |-- NINQ: integer (nullable = true)\n",
      " |-- CLNO: integer (nullable = true)\n",
      " |-- DEBTINC: double (nullable = true)\n",
      "\n"
     ]
    }
   ],
   "source": [
    "# Display a summary of the table\n",
    "\n",
    "hmeq.printSchema()"
   ]
  },
  {
   "cell_type": "code",
   "execution_count": 9,
   "id": "e776eb33-3dc3-430e-b902-d062118fda34",
   "metadata": {},
   "outputs": [
    {
     "data": {
      "text/plain": [
       "[('BAD', 'int'),\n",
       " ('LOAN', 'int'),\n",
       " ('MORTDUE', 'double'),\n",
       " ('VALUE', 'double'),\n",
       " ('REASON', 'string'),\n",
       " ('JOB', 'string'),\n",
       " ('YOJ', 'double'),\n",
       " ('DEROG', 'int'),\n",
       " ('DELINQ', 'int'),\n",
       " ('CLAGE', 'double'),\n",
       " ('NINQ', 'int'),\n",
       " ('CLNO', 'int'),\n",
       " ('DEBTINC', 'double')]"
      ]
     },
     "execution_count": 9,
     "metadata": {},
     "output_type": "execute_result"
    }
   ],
   "source": [
    "# Displays the column types\n",
    "\n",
    "hmeq.dtypes"
   ]
  },
  {
   "cell_type": "code",
   "execution_count": 10,
   "id": "5b2c6d72-7a34-443d-a29b-8733c5ceb428",
   "metadata": {},
   "outputs": [
    {
     "data": {
      "text/plain": [
       "pyspark.sql.column.Column"
      ]
     },
     "execution_count": 10,
     "metadata": {},
     "output_type": "execute_result"
    }
   ],
   "source": [
    "# Displaytype of target variable info\n",
    "\n",
    "type(hmeq[\"BAD\"])"
   ]
  },
  {
   "cell_type": "code",
   "execution_count": 11,
   "id": "16177992-2092-4c07-b95f-4a99f68134d3",
   "metadata": {},
   "outputs": [
    {
     "name": "stdout",
     "output_type": "stream",
     "text": [
      "+---+-----+----------+\n",
      "|BAD|count|percentage|\n",
      "+---+-----+----------+\n",
      "|  1| 1189|     19.95|\n",
      "|  0| 4771|     80.05|\n",
      "+---+-----+----------+\n",
      "\n"
     ]
    }
   ],
   "source": [
    "# Displays target variable distribution\n",
    "\n",
    "target_dist = hmeq.groupby(\"BAD\").count()\n",
    "target_dist = target_dist.withColumn(\"percentage\", F.round(target_dist[\"count\"]*100/hmeq.count(), 3))\n",
    "target_dist.show()"
   ]
  },
  {
   "cell_type": "code",
   "execution_count": 12,
   "id": "7b1afa7f-0f92-483c-87fb-ef6d9af3d01d",
   "metadata": {},
   "outputs": [
    {
     "data": {
      "text/plain": [
       "5960"
      ]
     },
     "execution_count": 12,
     "metadata": {},
     "output_type": "execute_result"
    }
   ],
   "source": [
    "# Search for duplicate rows\n",
    "\n",
    "hmeq.dropDuplicates().count()"
   ]
  },
  {
   "cell_type": "code",
   "execution_count": 13,
   "id": "98d62070-754c-4828-974e-5cc3c32cb820",
   "metadata": {},
   "outputs": [
    {
     "data": {
      "text/html": [
       "<div>\n",
       "<style scoped>\n",
       "    .dataframe tbody tr th:only-of-type {\n",
       "        vertical-align: middle;\n",
       "    }\n",
       "\n",
       "    .dataframe tbody tr th {\n",
       "        vertical-align: top;\n",
       "    }\n",
       "\n",
       "    .dataframe thead th {\n",
       "        text-align: right;\n",
       "    }\n",
       "</style>\n",
       "<table border=\"1\" class=\"dataframe\">\n",
       "  <thead>\n",
       "    <tr style=\"text-align: right;\">\n",
       "      <th></th>\n",
       "      <th>column</th>\n",
       "      <th>nmiss_count</th>\n",
       "      <th>nmiss_pct</th>\n",
       "    </tr>\n",
       "  </thead>\n",
       "  <tbody>\n",
       "    <tr>\n",
       "      <th>0</th>\n",
       "      <td>BAD</td>\n",
       "      <td>0</td>\n",
       "      <td>0.000000</td>\n",
       "    </tr>\n",
       "    <tr>\n",
       "      <th>1</th>\n",
       "      <td>LOAN</td>\n",
       "      <td>0</td>\n",
       "      <td>0.000000</td>\n",
       "    </tr>\n",
       "    <tr>\n",
       "      <th>2</th>\n",
       "      <td>MORTDUE</td>\n",
       "      <td>518</td>\n",
       "      <td>8.691275</td>\n",
       "    </tr>\n",
       "    <tr>\n",
       "      <th>3</th>\n",
       "      <td>VALUE</td>\n",
       "      <td>112</td>\n",
       "      <td>1.879195</td>\n",
       "    </tr>\n",
       "    <tr>\n",
       "      <th>4</th>\n",
       "      <td>REASON</td>\n",
       "      <td>252</td>\n",
       "      <td>4.228188</td>\n",
       "    </tr>\n",
       "    <tr>\n",
       "      <th>5</th>\n",
       "      <td>JOB</td>\n",
       "      <td>279</td>\n",
       "      <td>4.681208</td>\n",
       "    </tr>\n",
       "    <tr>\n",
       "      <th>6</th>\n",
       "      <td>YOJ</td>\n",
       "      <td>515</td>\n",
       "      <td>8.640940</td>\n",
       "    </tr>\n",
       "    <tr>\n",
       "      <th>7</th>\n",
       "      <td>DEROG</td>\n",
       "      <td>708</td>\n",
       "      <td>11.879195</td>\n",
       "    </tr>\n",
       "    <tr>\n",
       "      <th>8</th>\n",
       "      <td>DELINQ</td>\n",
       "      <td>580</td>\n",
       "      <td>9.731544</td>\n",
       "    </tr>\n",
       "    <tr>\n",
       "      <th>9</th>\n",
       "      <td>CLAGE</td>\n",
       "      <td>308</td>\n",
       "      <td>5.167785</td>\n",
       "    </tr>\n",
       "    <tr>\n",
       "      <th>10</th>\n",
       "      <td>NINQ</td>\n",
       "      <td>510</td>\n",
       "      <td>8.557047</td>\n",
       "    </tr>\n",
       "    <tr>\n",
       "      <th>11</th>\n",
       "      <td>CLNO</td>\n",
       "      <td>222</td>\n",
       "      <td>3.724832</td>\n",
       "    </tr>\n",
       "    <tr>\n",
       "      <th>12</th>\n",
       "      <td>DEBTINC</td>\n",
       "      <td>1267</td>\n",
       "      <td>21.258389</td>\n",
       "    </tr>\n",
       "  </tbody>\n",
       "</table>\n",
       "</div>"
      ],
      "text/plain": [
       "     column  nmiss_count  nmiss_pct\n",
       "0       BAD            0   0.000000\n",
       "1      LOAN            0   0.000000\n",
       "2   MORTDUE          518   8.691275\n",
       "3     VALUE          112   1.879195\n",
       "4    REASON          252   4.228188\n",
       "5       JOB          279   4.681208\n",
       "6       YOJ          515   8.640940\n",
       "7     DEROG          708  11.879195\n",
       "8    DELINQ          580   9.731544\n",
       "9     CLAGE          308   5.167785\n",
       "10     NINQ          510   8.557047\n",
       "11     CLNO          222   3.724832\n",
       "12  DEBTINC         1267  21.258389"
      ]
     },
     "execution_count": 13,
     "metadata": {},
     "output_type": "execute_result"
    }
   ],
   "source": [
    "# Filters missing values\n",
    "\n",
    "missing = {col: hmeq.filter(hmeq[col].isNull()).count() for col in hmeq.columns}\n",
    "\n",
    "# Creates a dataframe\n",
    "\n",
    "missing_df = pd.DataFrame.from_dict(missing, orient = \"index\", columns = [\"nmiss_count\"])\n",
    "missing_df = missing_df.reset_index(names = [\"column\"])\n",
    "missing_df[\"nmiss_pct\"] = missing_df[\"nmiss_count\"]*100/hmeq.count()\n",
    "\n",
    "missing_df"
   ]
  },
  {
   "cell_type": "code",
   "execution_count": 14,
   "id": "82fc4006-ac0f-4fc1-abbc-6156c7b7615c",
   "metadata": {},
   "outputs": [
    {
     "data": {
      "text/plain": [
       "[Text(0, 0.0, '0%'),\n",
       " Text(0, 2.5, '2%'),\n",
       " Text(0, 5.0, '5%'),\n",
       " Text(0, 7.5, '8%'),\n",
       " Text(0, 10.0, '10%'),\n",
       " Text(0, 12.5, '12%'),\n",
       " Text(0, 15.0, '15%'),\n",
       " Text(0, 17.5, '18%'),\n",
       " Text(0, 20.0, '20%'),\n",
       " Text(0, 22.5, '22%')]"
      ]
     },
     "execution_count": 14,
     "metadata": {},
     "output_type": "execute_result"
    },
    {
     "data": {
      "image/png": "[encoded data removed]",
      "text/plain": [
       "<Figure size 640x480 with 1 Axes>"
      ]
     },
     "metadata": {},
     "output_type": "display_data"
    }
   ],
   "source": [
    "# Plots missing values\n",
    "\n",
    "ax = missing_df.plot(x = \"column\", y = \"nmiss_pct\", xlabel = \"\", kind = \"bar\", title = \"Missing Distribution\")\n",
    "y_vals = ax.get_yticks().tolist()\n",
    "ax.set_yticks(y_vals)\n",
    "ax.set_yticklabels([\"{:.0f}%\".format(i) for i in y_vals])"
   ]
  },
  {
   "cell_type": "code",
   "execution_count": 15,
   "id": "abbb11f6-2c92-44d6-b6eb-dad303ad14d8",
   "metadata": {},
   "outputs": [],
   "source": [
    "# Creates lists of the different variable types\n",
    "\n",
    "ints = [i[0] for i in hmeq.dtypes if i[1] == \"int\"]\n",
    "doubles = [i[0] for i in hmeq.dtypes if i[1] == \"double\"]\n",
    "strings = [i[0] for i in hmeq.dtypes if i[1] == \"string\"]"
   ]
  },
  {
   "cell_type": "code",
   "execution_count": 16,
   "id": "e4c6a8ad-c728-4ccc-9a6d-b44f872d539c",
   "metadata": {},
   "outputs": [
    {
     "name": "stdout",
     "output_type": "stream",
     "text": [
      "INTEGERS\n",
      "+-------+-----------------+------------------+------------------+------------------+------------------+------------------+\n",
      "|summary|              BAD|              LOAN|             DEROG|            DELINQ|              NINQ|              CLNO|\n",
      "+-------+-----------------+------------------+------------------+------------------+------------------+------------------+\n",
      "|  count|             5960|              5960|              5252|              5380|              5450|              5738|\n",
      "|   mean|0.199496644295302| 18607.96979865772|0.2545696877380046|0.4494423791821561|1.1860550458715597| 21.29609620076682|\n",
      "| stddev|0.399655517450269|11207.480416693992| 0.846046777086318|1.1272659176049744|1.7286749712080534|10.138933192458637|\n",
      "|    min|                0|              1100|                 0|                 0|                 0|                 0|\n",
      "|    max|                1|             89900|                10|                15|                17|                71|\n",
      "+-------+-----------------+------------------+------------------+------------------+------------------+------------------+\n",
      "\n",
      "DOUBLES\n",
      "+-------+------------------+------------------+-----------------+------------------+------------------+\n",
      "|summary|           MORTDUE|             VALUE|              YOJ|             CLAGE|           DEBTINC|\n",
      "+-------+------------------+------------------+-----------------+------------------+------------------+\n",
      "|  count|              5442|              5848|             5445|              5652|              4693|\n",
      "|   mean| 73760.81719955898|101776.04874145007|8.922268135904508|179.76627518657776|33.779915348719136|\n",
      "| stddev|44457.609458415885|  57385.7753337027|7.573982248898881| 85.81009176372437| 8.601746186336879|\n",
      "|    min|            2063.0|            8000.0|              0.0|               0.0| 0.524499215429881|\n",
      "|    max|          399550.0|          855909.0|             41.0|  1168.23356094464|  203.312148691165|\n",
      "+-------+------------------+------------------+-----------------+------------------+------------------+\n",
      "\n",
      "STRINGS\n",
      "+-------+-------+----+\n",
      "|summary| REASON| JOB|\n",
      "+-------+-------+----+\n",
      "|  count|   5708|5681|\n",
      "|   mean|   NULL|NULL|\n",
      "| stddev|   NULL|NULL|\n",
      "|    min|DebtCon| Mgr|\n",
      "|    max|HomeImp|Self|\n",
      "+-------+-------+----+\n",
      "\n"
     ]
    }
   ],
   "source": [
    "# Display distribution of the different variable types\n",
    "\n",
    "print(\"INTEGERS\", end=\"\\n\")\n",
    "hmeq.describe(ints).show()\n",
    "\n",
    "print(\"DOUBLES\", end=\"\\n\")\n",
    "hmeq.describe(doubles).show()\n",
    "\n",
    "print(\"STRINGS\", end=\"\\n\")\n",
    "hmeq.describe(strings).show()"
   ]
  },
  {
   "cell_type": "code",
   "execution_count": null,
   "id": "134875d1-41da-4300-a003-9be84e3b1a42",
   "metadata": {},
   "outputs": [],
   "source": [
    "# # Creates a pandas.DataFrame copy of HMEQ \n",
    "\n",
    "# hmeq_df = hmeq.toPandas()"
   ]
  },
  {
   "cell_type": "code",
   "execution_count": null,
   "id": "e7f8a9de-ff70-48ba-9aa8-9dab607059f6",
   "metadata": {},
   "outputs": [],
   "source": [
    "# # Changes matplotlib parameters\n",
    "\n",
    "# plt.tight_layout()\n",
    "\n",
    "# # Plots histograms\n",
    "\n",
    "# hmeq_df.hist(figsize = (12,12))"
   ]
  },
  {
   "cell_type": "code",
   "execution_count": 18,
   "id": "6c7ea2d9-0dd9-4903-86f8-f0322e6ab580",
   "metadata": {},
   "outputs": [],
   "source": [
    "# Creates a list of all non-string variables and no target variable\n",
    "\n",
    "nums = ints[1:] + doubles\n",
    "\n",
    "# Creates a list of the variables to be imputed by mode and mean\n",
    "\n",
    "median = [\"YOJ\", \"DEROG\", \"NINQ\", \"DELINQ\"]\n",
    "mean = [i for i in nums if i not in median]"
   ]
  },
  {
   "cell_type": "code",
   "execution_count": 24,
   "id": "25387457-c518-425c-83cc-7548ee9e9b38",
   "metadata": {},
   "outputs": [
    {
     "name": "stdout",
     "output_type": "stream",
     "text": [
      "REASON frequency table\n",
      "+-------+-----+\n",
      "| REASON|count|\n",
      "+-------+-----+\n",
      "|HomeImp| 1780|\n",
      "|   NULL|  252|\n",
      "|DebtCon| 3928|\n",
      "+-------+-----+\n",
      "\n",
      "JOB frequency table\n",
      "+-------+-----+\n",
      "|    JOB|count|\n",
      "+-------+-----+\n",
      "|  Sales|  109|\n",
      "| Office|  948|\n",
      "|ProfExe| 1276|\n",
      "|   NULL|  279|\n",
      "|   Self|  193|\n",
      "|  Other| 2388|\n",
      "|    Mgr|  767|\n",
      "+-------+-----+\n",
      "\n"
     ]
    }
   ],
   "source": [
    "# Displays the distribution of the string variables\n",
    "\n",
    "print(\"REASON frequency table\", end=\"\\n\")\n",
    "reason_freq = hmeq.groupby(\"REASON\").count().show()\n",
    "\n",
    "print(\"JOB frequency table\", end=\"\\n\")\n",
    "job_freq = hmeq.groupby(\"JOB\").count().show()"
   ]
  },
  {
   "cell_type": "code",
   "execution_count": null,
   "id": "8542ece3-9e79-47a3-9bf9-cb01d5538e35",
   "metadata": {},
   "outputs": [],
   "source": [
    "# # Prepares an assembler to vectorize the dataframe\n",
    "\n",
    "# assembler = VectorAssembler(inputCols = nums, outputCol = \"features\")\n",
    "\n",
    "# # Transforms the hmeq dataframe into vector form and removes rows that contain na from the analysis\n",
    "\n",
    "# vector_nums = assembler.transform(hmeq.dropna())\n",
    "# corr_matrix = Correlation.corr(vector_nums, \"features\").collect()"
   ]
  },
  {
   "cell_type": "code",
   "execution_count": null,
   "id": "66a3a09c-6df3-411c-9b82-146938f0f877",
   "metadata": {},
   "outputs": [],
   "source": [
    "# # Turns the correlation matrix into a numpy array\n",
    "\n",
    "# corr_arr = corr_matrix[0][0].toArray()\n",
    "# corr_df = pd.DataFrame(corr_arr, columns = nums, index = nums)"
   ]
  },
  {
   "cell_type": "code",
   "execution_count": null,
   "id": "29360c6b-6e78-4580-a0c8-2db4371f805c",
   "metadata": {},
   "outputs": [],
   "source": [
    "# # Generates a heatmap using the correlation values\n",
    "\n",
    "# fig, ax = plt.subplots(figsize = (10,10))\n",
    "# cmap = plt.get_cmap(\"coolwarm\").reversed()\n",
    "# corr_plot = sns.heatmap(corr_df, vmin = -1, vmax = 1, annot=True, cmap=cmap)\n",
    "# corr_plot.set_title(\"Correlation HeatMap\")"
   ]
  },
  {
   "cell_type": "markdown",
   "id": "cb6d7b8a-45ba-4229-8c5b-05ad661a7863",
   "metadata": {},
   "source": [
    "## Data pre-processing and partitioning"
   ]
  },
  {
   "cell_type": "code",
   "execution_count": 25,
   "id": "838d5b25-78d9-47ef-9c2f-713fcc4ce30f",
   "metadata": {},
   "outputs": [],
   "source": [
    "# Map categorical values to numeric values\n",
    "\n",
    "def cat_mapper(df, columns, inplace = False):\n",
    "    \"\"\"\n",
    "    Searches through the specified categorical columns and maps their values to integers that represent categories.\n",
    "\n",
    "    parameters\n",
    "    ----------\n",
    "    df: DataFrame. Contains the columns that need to be remapped.\n",
    "    columns: List. Contains the name of the columns to be remapped.\n",
    "    \"\"\"\n",
    "\n",
    "    # Performs basic type checking\n",
    "    \n",
    "    if isinstance(df, DataFrame) == False:\n",
    "        raise(TypeError(\"The df parameter must be an instance of a PySpark DataFrame.\"))\n",
    "\n",
    "    if isinstance(columns, list) == False:\n",
    "        raise(TypeError(\"The columns parameter must be list containing the name of the columns that will be mapped.\"))\n",
    "\n",
    "    # Remaps the specified categorical columns \n",
    "\n",
    "    all_maps = []\n",
    "    \n",
    "    for col in columns:\n",
    "        # Creates a dictionary of the categories and enumerates them \n",
    "        distinct_rows = df.select(col).distinct().collect()\n",
    "        categories = [(i, col[0]) for i, col in enumerate(distinct_rows) if col[0] is not None]\n",
    "        cat_map = {i[1]: i[0] for i in categories}\n",
    "        \n",
    "        # Appends the mapping for the current column into a list\n",
    "        all_maps.append(cat_map)\n",
    "\n",
    "        # Creates a map using the previously created dictionary and then applies the mapping to the corresponding column\n",
    "        mapping_expr = F.create_map(*[F.lit(x) for x in chain(*cat_map.items())])\n",
    "        df = df.withColumn(col + \"_MAPPED\", mapping_expr[F.col(col)]) \n",
    "            \n",
    "    return df, all_maps    "
   ]
  },
  {
   "cell_type": "code",
   "execution_count": 26,
   "id": "027f0510-fee4-4f40-8310-b32a8285cb46",
   "metadata": {},
   "outputs": [],
   "source": [
    "# Applies the mapping function to get a new column that contains the mapped values \n",
    "\n",
    "hmeq, hmeq_map = cat_mapper(hmeq, strings)"
   ]
  },
  {
   "cell_type": "code",
   "execution_count": 27,
   "id": "9f813b37-79d8-44ef-b7ba-a82f6bd1edbe",
   "metadata": {},
   "outputs": [
    {
     "name": "stdout",
     "output_type": "stream",
     "text": [
      "+-------+-------------+\n",
      "| REASON|REASON_MAPPED|\n",
      "+-------+-------------+\n",
      "|HomeImp|            0|\n",
      "|DebtCon|            1|\n",
      "|   NULL|         NULL|\n",
      "+-------+-------------+\n",
      "\n",
      "+-------+----------+\n",
      "|    JOB|JOB_MAPPED|\n",
      "+-------+----------+\n",
      "|ProfExe|         2|\n",
      "|  Other|         4|\n",
      "|  Sales|         0|\n",
      "|    Mgr|         5|\n",
      "| Office|         1|\n",
      "|   Self|         3|\n",
      "|   NULL|      NULL|\n",
      "+-------+----------+\n",
      "\n"
     ]
    }
   ],
   "source": [
    "# Displays the new columns and their corresponding mapped versions\n",
    "\n",
    "hmeq.select([\"REASON\", \"REASON_MAPPED\"]).distinct().show()\n",
    "hmeq.select([\"JOB\", \"JOB_MAPPED\"]).distinct().show()"
   ]
  },
  {
   "cell_type": "code",
   "execution_count": 28,
   "id": "6cb961d8-72fc-4062-9f69-718b4014c1a6",
   "metadata": {},
   "outputs": [],
   "source": [
    "# Defines a function to perform stratified sampling\n",
    "\n",
    "def train_test_split(df, train_pct, target, samp_type = \"random\", seed = 42):\n",
    "    \"\"\"\n",
    "    Defines a function to have more control on paritioning data for training and validation.\n",
    "    This only works on binary columns with target values of 0 and 1.\n",
    "    \n",
    "    Parameters\n",
    "    ----------\n",
    "\n",
    "    df: PySpark DataFrame that will be partitioned.\n",
    "\n",
    "    train_pct: Percentage of the data that will belong to training.\n",
    "\n",
    "    target: String representing the target column name.\n",
    "\n",
    "    samp_type: random, stratified. The type of sampling to be performed.\n",
    "\n",
    "    seed: Integer that represents the random seed. Default = 42.\n",
    "    \"\"\"\n",
    "\n",
    "    # Checks input types\n",
    "    \n",
    "    if isinstance(df, DataFrame) == False:\n",
    "        raise(TypeError(\"df parameter is not of PySpark DataFrame type.\"))\n",
    "\n",
    "    if isinstance(target, str) == False:\n",
    "            raise(TypeError(\"target parameter is not a str type.\"))\n",
    "        \n",
    "    if isinstance(samp_type, str) == False:\n",
    "        raise(TypeError(\"samp_type parameter not a string.\"))\n",
    "\n",
    "    if isinstance(seed, int) == False:\n",
    "        raise(TypeError(\"seed parameter not an int.\"))\n",
    "\n",
    "    # Checks for valid values\n",
    "\n",
    "    if samp_type not in [\"random\", \"stratify\"]:\n",
    "        raise(ValueError(\"samp_type only supports values of random or stratify.\"))\n",
    "        \n",
    "    if train_pct < 0 or train_pct > 1:\n",
    "        raise(ValueError(\"train_pct must be a float between 0 and 1.\"))\n",
    "\n",
    "    # Applies random sampling\n",
    "\n",
    "    if samp_type == \"random\":\n",
    "        train, test = df.randomSplit([train_pct, test_pct], seed = seed)\n",
    "\n",
    "    if samp_type == \"stratify\":        \n",
    "        # Performs stratified sampling and returns the proportion of rows specified by the train_pct option \n",
    "        train = df.sampleBy(target, {0: train_pct, 1: train_pct}, seed).limit(round(train_pct*df.count()))\n",
    "        test = df.exceptAll(train)\n",
    "\n",
    "    df_list = [train, test]\n",
    "    \n",
    "    return df_list"
   ]
  },
  {
   "cell_type": "code",
   "execution_count": 29,
   "id": "39ff755b-b7d6-4617-8fb1-70ba1be2dfc3",
   "metadata": {},
   "outputs": [],
   "source": [
    "# Partitions the dataset into training and validation\n",
    "\n",
    "train, test = train_test_split(hmeq, 0.7, \"BAD\", samp_type = \"stratify\")"
   ]
  },
  {
   "cell_type": "code",
   "execution_count": 30,
   "id": "bd1efe34-19ba-4e2d-a8b1-ec59f47832d7",
   "metadata": {},
   "outputs": [
    {
     "name": "stdout",
     "output_type": "stream",
     "text": [
      "The training partition contains 0.7% of the rows.\n",
      "\n",
      "The testing partition contains 0.3% of the rows.\n",
      "\n",
      "Target Distribution in Training:\n",
      "\n",
      "+---+-----+----------+\n",
      "|BAD|count|Percentage|\n",
      "+---+-----+----------+\n",
      "|  1|  830|       0.2|\n",
      "|  0| 3342|       0.8|\n",
      "+---+-----+----------+\n",
      "\n",
      "Target Distribution in Testing:\n",
      "\n",
      "+---+-----+----------+\n",
      "|BAD|count|Percentage|\n",
      "+---+-----+----------+\n",
      "|  1|  359|       0.2|\n",
      "|  0| 1429|       0.8|\n",
      "+---+-----+----------+\n",
      "\n"
     ]
    }
   ],
   "source": [
    "# Displays some quick chekcs to ensure the data was partitioned correctly\n",
    "\n",
    "print(\"The training partition contains\", str(train.count()/hmeq.count()) + \"%\", \"of the rows.\", end = \"\\n\\n\" )\n",
    "print(\"The testing partition contains\", str(test.count()/hmeq.count()) + \"%\", \"of the rows.\", end=\"\\n\\n\")\n",
    "\n",
    "print(\"Target Distribution in Training:\", end = \"\\n\\n\")\n",
    "train_bad_dist = train.groupBy(\"BAD\").count()\n",
    "train_bad_dist.withColumn(\"Percentage\", F.round(train_bad_dist[\"count\"]/train.count(), 2)).show()\n",
    "\n",
    "print(\"Target Distribution in Testing:\", end = \"\\n\\n\")\n",
    "test_bad_dist = test.groupBy(\"BAD\").count()\n",
    "test_bad_dist.withColumn(\"Percentage\", F.round(test_bad_dist[\"count\"]/test.count(), 2)).show()"
   ]
  },
  {
   "cell_type": "code",
   "execution_count": 31,
   "id": "6f15af33-4f56-42b4-98e4-9278a9c25621",
   "metadata": {},
   "outputs": [],
   "source": [
    "# Creates a new list containing these new columns to impute them with their mode\n",
    "\n",
    "mode = [\"REASON_MAPPED\", \"JOB_MAPPED\"]"
   ]
  },
  {
   "cell_type": "code",
   "execution_count": 80,
   "id": "c469f263-d447-4349-821b-d8c4892f948f",
   "metadata": {},
   "outputs": [],
   "source": [
    "# Creates a list of the output column names \n",
    "\n",
    "mean_out = [\"{}_OUT\".format(i) for i in mean]\n",
    "median_out = [\"{}_OUT\".format(i) for i in median]\n",
    "mode_out = [\"{}_OUT\".format(i) for i in mode]"
   ]
  },
  {
   "cell_type": "code",
   "execution_count": 81,
   "id": "4afccde9-1897-422b-bf57-3b75ae7fb875",
   "metadata": {},
   "outputs": [],
   "source": [
    "# Creates a mean, median, and mode imputer type objects\n",
    "\n",
    "mean_imputer = Imputer(strategy = \"mean\", inputCols = mean, outputCols = mean_out) \n",
    "median_imputer = Imputer(strategy = \"median\", inputCols = median, outputCols = median_out)\n",
    "mode_imputer = Imputer(strategy = \"mode\", inputCols = mode, outputCols = mode_out)"
   ]
  },
  {
   "cell_type": "code",
   "execution_count": 82,
   "id": "3467ec43-e4da-4dda-83ed-a485e442756e",
   "metadata": {},
   "outputs": [],
   "source": [
    "# Dummy for testing\n",
    "\n",
    "dummy = hmeq"
   ]
  },
  {
   "cell_type": "code",
   "execution_count": 83,
   "id": "ea8b480a-22c8-4c3b-a779-92b7e202cb56",
   "metadata": {},
   "outputs": [],
   "source": [
    "# Fits the imputers\n",
    "\n",
    "mi = mean_imputer.fit(train)\n",
    "mei = median_imputer.fit(train)\n",
    "moi = mode_imputer.fit(train)\n",
    "\n",
    "# Transforms the datasets by applying the imputers\n",
    "\n",
    "dummy = mi.transform(dummy)\n",
    "dummy = mei.transform(dummy)\n",
    "dummy = moi.transform(dummy)"
   ]
  },
  {
   "cell_type": "code",
   "execution_count": 84,
   "id": "1aff2aaf-d887-4070-a39c-4d86904db1ee",
   "metadata": {},
   "outputs": [
    {
     "data": {
      "text/plain": [
       "{'LOAN_OUT': 0,\n",
       " 'CLNO_OUT': 0,\n",
       " 'MORTDUE_OUT': 0,\n",
       " 'VALUE_OUT': 0,\n",
       " 'CLAGE_OUT': 0,\n",
       " 'DEBTINC_OUT': 0,\n",
       " 'YOJ_OUT': 0,\n",
       " 'DEROG_OUT': 0,\n",
       " 'NINQ_OUT': 0,\n",
       " 'DELINQ_OUT': 0,\n",
       " 'REASON_MAPPED_OUT': 0,\n",
       " 'JOB_MAPPED_OUT': 0}"
      ]
     },
     "execution_count": 84,
     "metadata": {},
     "output_type": "execute_result"
    }
   ],
   "source": [
    "# Checks to ensure all missing values are replaced\n",
    "\n",
    "_missing = {}\n",
    "all_vars = mean_out + median_out + mode_out\n",
    "\n",
    "for i in all_vars:\n",
    "    _missing.update({i: dummy.filter(dummy[i].isNull()).count()})\n",
    "\n",
    "_missing"
   ]
  },
  {
   "cell_type": "code",
   "execution_count": 85,
   "id": "f95be6ae-9442-400f-8da3-20adf5e89e6c",
   "metadata": {},
   "outputs": [],
   "source": [
    "# Defines a dummy coder\n",
    "\n",
    "def dummy_coder(df, cols):\n",
    "    \"\"\"\n",
    "    Defines a function to dummy code categorical columns.\n",
    "    Returns a column for each category where the suffix is the value\n",
    "    that the column represents.\n",
    "    \n",
    "    Parameters\n",
    "    ----------\n",
    "\n",
    "    df: PySpark DataFrame that will be partitioned.\n",
    "\n",
    "    cols: List containing the names of the categorical columns to be dummy coded.\n",
    "    \"\"\"\n",
    "\n",
    "    # Checks input types\n",
    "    \n",
    "    if isinstance(df, DataFrame) == False:\n",
    "        raise(TypeError(\"df parameter is not of PySpark DataFrame type.\"))\n",
    "\n",
    "    if isinstance(cols, list) == False:\n",
    "            raise(TypeError(\"cols parameter is not of list type.\"))\n",
    "\n",
    "    # Creates an empty dictionary and iterates through columns\n",
    "\n",
    "    _map = {}\n",
    "    _cols = []\n",
    "    \n",
    "    for i in cols:\n",
    "        # Gets a list of the distinct values\n",
    "        distinct_list = df.select(i).distinct().sort(i).collect()\n",
    "        for j in distinct_list:\n",
    "            # Selects the row element value and creates the name of the column to be created\n",
    "            j = j[0]\n",
    "            col_name = \"{i}_{j}\".format(i = i, j = j)\n",
    "            \n",
    "            # Stores column names and creates a map  \n",
    "            _cols.append(col_name)            \n",
    "            _map.update({col_name: F.when(dummy[i] == j, 1).otherwise(0)})\n",
    "\n",
    "    # Applies the map to create the new columns\n",
    "    \n",
    "    df = df.withColumns(_map)\n",
    "\n",
    "    return df, _cols"
   ]
  },
  {
   "cell_type": "code",
   "execution_count": 86,
   "id": "2ac984a6-eab3-4d99-b0c2-aa7605774277",
   "metadata": {},
   "outputs": [],
   "source": [
    "# Applies the dummy_coder function\n",
    "\n",
    "dummy, dummy_cols = dummy_coder(dummy, mode_out)"
   ]
  },
  {
   "cell_type": "code",
   "execution_count": 71,
   "id": "2b2b0fe2-b0d5-4881-8181-1457c7deb034",
   "metadata": {},
   "outputs": [
    {
     "name": "stdout",
     "output_type": "stream",
     "text": [
      "+-------------+----------+-----------------+--------------+-------------------+-------------------+----------------+----------------+----------------+----------------+----------------+----------------+\n",
      "|REASON_MAPPED|JOB_MAPPED|REASON_MAPPED_OUT|JOB_MAPPED_OUT|REASON_MAPPED_OUT_0|REASON_MAPPED_OUT_1|JOB_MAPPED_OUT_0|JOB_MAPPED_OUT_1|JOB_MAPPED_OUT_2|JOB_MAPPED_OUT_3|JOB_MAPPED_OUT_4|JOB_MAPPED_OUT_5|\n",
      "+-------------+----------+-----------------+--------------+-------------------+-------------------+----------------+----------------+----------------+----------------+----------------+----------------+\n",
      "|            0|         4|                0|             4|                  1|                  0|               0|               0|               0|               0|               1|               0|\n",
      "|            0|         4|                0|             4|                  1|                  0|               0|               0|               0|               0|               1|               0|\n",
      "|            0|         4|                0|             4|                  1|                  0|               0|               0|               0|               0|               1|               0|\n",
      "|         NULL|      NULL|                1|             4|                  0|                  1|               0|               0|               0|               0|               1|               0|\n",
      "|            0|         1|                0|             1|                  1|                  0|               0|               1|               0|               0|               0|               0|\n",
      "|            0|         4|                0|             4|                  1|                  0|               0|               0|               0|               0|               1|               0|\n",
      "|            0|         4|                0|             4|                  1|                  0|               0|               0|               0|               0|               1|               0|\n",
      "|            0|         4|                0|             4|                  1|                  0|               0|               0|               0|               0|               1|               0|\n",
      "|            0|         4|                0|             4|                  1|                  0|               0|               0|               0|               0|               1|               0|\n",
      "|            0|         0|                0|             0|                  1|                  0|               1|               0|               0|               0|               0|               0|\n",
      "|         NULL|      NULL|                1|             4|                  0|                  1|               0|               0|               0|               0|               1|               0|\n",
      "|            0|         1|                0|             1|                  1|                  0|               0|               1|               0|               0|               0|               0|\n",
      "|            0|         4|                0|             4|                  1|                  0|               0|               0|               0|               0|               1|               0|\n",
      "|         NULL|         5|                1|             5|                  0|                  1|               0|               0|               0|               0|               0|               1|\n",
      "|            0|         4|                0|             4|                  1|                  0|               0|               0|               0|               0|               1|               0|\n",
      "|            0|         4|                0|             4|                  1|                  0|               0|               0|               0|               0|               1|               0|\n",
      "|            0|         5|                0|             5|                  1|                  0|               0|               0|               0|               0|               0|               1|\n",
      "|         NULL|      NULL|                1|             4|                  0|                  1|               0|               0|               0|               0|               1|               0|\n",
      "|            0|         4|                0|             4|                  1|                  0|               0|               0|               0|               0|               1|               0|\n",
      "|            0|         1|                0|             1|                  1|                  0|               0|               1|               0|               0|               0|               0|\n",
      "+-------------+----------+-----------------+--------------+-------------------+-------------------+----------------+----------------+----------------+----------------+----------------+----------------+\n",
      "only showing top 20 rows\n",
      "\n"
     ]
    }
   ],
   "source": [
    "# Visualizes all versions of the categorical columns\n",
    "\n",
    "categoricals = [i for i in dummy.columns if (\"JOB_\" in i) | (\"REASON_\" in i)]\n",
    "dummy.select(categoricals).show()"
   ]
  },
  {
   "cell_type": "code",
   "execution_count": null,
   "id": "d82b57d3-b087-43c2-abdf-6d37c584fcd8",
   "metadata": {},
   "outputs": [],
   "source": [
    "# # Dummy codes the categorical variables\n",
    "\n",
    "# dummy = dummy.withColumns(\n",
    "#                           {\n",
    "#                            \"JOB_0\": F.when(dummy[\"JOB_MAPPED_OUT\"] == 0, 1).otherwise(0), \n",
    "#                            \"JOB_1\": F.when(dummy[\"JOB_MAPPED_OUT\"] == 1, 1).otherwise(0), \n",
    "#                            \"JOB_2\": F.when(dummy[\"JOB_MAPPED_OUT\"] == 2, 1).otherwise(0), \n",
    "#                            \"JOB_3\": F.when(dummy[\"JOB_MAPPED_OUT\"] == 3, 1).otherwise(0), \n",
    "#                            \"JOB_4\": F.when(dummy[\"JOB_MAPPED_OUT\"] == 4, 1).otherwise(0),\n",
    "#                            \"JOB_5\": F.when(dummy[\"JOB_MAPPED_OUT\"] == 5, 1).otherwise(0),\n",
    "#                            \"REASON_0\": F.when(dummy[\"REASON_MAPPED_OUT\"] == 0, 1).otherwise(0), \n",
    "#                            \"REASON_1\": F.when(dummy[\"REASON_MAPPED_OUT\"] == 1, 1).otherwise(0)\n",
    "#                           }\n",
    "#                          )"
   ]
  },
  {
   "cell_type": "code",
   "execution_count": null,
   "id": "5c8d455b-097a-41ad-acf8-77b559e0dfa5",
   "metadata": {},
   "outputs": [],
   "source": [
    "# Creates a standard scaler object\n",
    "\n",
    "all_vars = mean_out + median_out + dummy_cols\n",
    "\n",
    "assembler = VectorAssembler(inputCols = all_vars, outputCol = \"features\")\n",
    "vector_dummy = assembler.transform(dummy[mean_out + median_out])\n",
    "scaler = StandardScaler(inputCol=\"features\", outputCol=\"scaled\")\n",
    "sm = scaler.fit(vector_dummy)"
   ]
  },
  {
   "cell_type": "code",
   "execution_count": null,
   "id": "ee7dc433-f966-4a69-91a5-47ca0b9f2f6f",
   "metadata": {},
   "outputs": [],
   "source": [
    "vector_dummy = sm.transform(vector_dummy).collect()"
   ]
  },
  {
   "cell_type": "code",
   "execution_count": null,
   "id": "81ce5df5-ed2d-456b-b619-87be52fe62d0",
   "metadata": {},
   "outputs": [],
   "source": [
    "dummy_df = spark.createDataFrame(vector_dummy)"
   ]
  },
  {
   "cell_type": "code",
   "execution_count": null,
   "id": "61b0a3be-2882-4acd-8e9c-de993b4dcadc",
   "metadata": {},
   "outputs": [],
   "source": [
    "dummy_df.show()"
   ]
  },
  {
   "cell_type": "code",
   "execution_count": null,
   "id": "d31b27d2-a38c-4770-8c7c-8ded5fde6344",
   "metadata": {},
   "outputs": [],
   "source": []
  },
  {
   "cell_type": "code",
   "execution_count": null,
   "id": "13e48647-bd0f-4e69-aad1-8c818561bdf5",
   "metadata": {},
   "outputs": [],
   "source": [
    "# Develop pipeline that contains (can develop one for training and validation/test time)\n",
    "    # Imputation [x]\n",
    "    # Dummy coding [x]\n",
    "    # Scaling [x]\n",
    "    # Variable selection "
   ]
  },
  {
   "cell_type": "code",
   "execution_count": null,
   "id": "aa3b9145-a50f-4f80-8507-ffcaf5583470",
   "metadata": {},
   "outputs": [],
   "source": [
    "# Perform imputation for nominal and categorical"
   ]
  },
  {
   "cell_type": "code",
   "execution_count": null,
   "id": "5a3ec63f-6a19-4574-aefb-efc1d72ef75f",
   "metadata": {},
   "outputs": [],
   "source": [
    "# Impute missing values in training then use the imputator on validation"
   ]
  },
  {
   "cell_type": "code",
   "execution_count": null,
   "id": "0935c7f4-09e2-4a02-a6b2-6557f8b1d5ed",
   "metadata": {},
   "outputs": [],
   "source": [
    "# dummy code columns as needed"
   ]
  },
  {
   "cell_type": "code",
   "execution_count": null,
   "id": "3dd8461a-940c-4408-a48c-f53c2f889712",
   "metadata": {},
   "outputs": [],
   "source": [
    "# Move all pre-processing checks to after the pipeline if possible "
   ]
  },
  {
   "cell_type": "code",
   "execution_count": null,
   "id": "a01a2e9a-4236-4b17-a8eb-7a1803d888ca",
   "metadata": {},
   "outputs": [],
   "source": [
    "# Perform variable selection\n",
    "    # Make sure to partition train before using supervised techniques\n",
    "    # Aggregate selected variables into a table then choose tie or majority\n",
    "    # Make sure to impute missing values on validation with training based imputer"
   ]
  },
  {
   "cell_type": "code",
   "execution_count": null,
   "id": "f3fffa35-012a-40a4-bc4e-bb341baef209",
   "metadata": {},
   "outputs": [],
   "source": [
    "# Train the following models:\n",
    "    # Logistic\n",
    "    # DTree\n",
    "    # RF\n",
    "    # GBoost\n",
    "    # Simple MLP\n",
    "\n",
    "# If possible, train each of these with an autotuner of sorts \n",
    "# If possible, try to use pipelines."
   ]
  },
  {
   "cell_type": "code",
   "execution_count": null,
   "id": "4b473020-12f5-432a-8292-f7b8e9b79169",
   "metadata": {},
   "outputs": [],
   "source": [
    "# Check memory for each step of the process"
   ]
  },
  {
   "cell_type": "code",
   "execution_count": null,
   "id": "7931532c-6670-423a-91af-58f117593eef",
   "metadata": {},
   "outputs": [],
   "source": [
    "# Assess the different models\n",
    "    # Use simple assessment metrics and more advanced ones\n",
    "    # Define a function if necessary"
   ]
  },
  {
   "cell_type": "code",
   "execution_count": null,
   "id": "325d9e5a-5727-4406-a77d-59f24f1a3fa6",
   "metadata": {},
   "outputs": [],
   "source": [
    "# Future work -- deploy these models either in MM and/or other tools."
   ]
  },
  {
   "cell_type": "code",
   "execution_count": null,
   "id": "6a448e6e-a9fe-4e76-b813-77959eefbfe3",
   "metadata": {},
   "outputs": [],
   "source": []
  }
 ],
 "metadata": {
  "kernelspec": {
   "display_name": "Python 3 (ipykernel)",
   "language": "python",
   "name": "python3"
  },
  "language_info": {
   "codemirror_mode": {
    "name": "ipython",
    "version": 3
   },
   "file_extension": ".py",
   "mimetype": "text/x-python",
   "name": "python",
   "nbconvert_exporter": "python",
   "pygments_lexer": "ipython3",
   "version": "3.11.9"
  }
 },
 "nbformat": 4,
 "nbformat_minor": 5
}
